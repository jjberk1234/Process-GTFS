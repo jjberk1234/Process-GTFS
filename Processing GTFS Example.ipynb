{
 "cells": [
  {
   "cell_type": "code",
   "execution_count": 1,
   "id": "3ed8d837",
   "metadata": {},
   "outputs": [],
   "source": [
    "import ProcessGTFS as pg"
   ]
  },
  {
   "cell_type": "code",
   "execution_count": 2,
   "id": "fbf6e210",
   "metadata": {},
   "outputs": [],
   "source": [
    "# Provide file paths for GTFS files\n",
    "\n",
    "stop_times_fn = 'stop_times.txt'\n",
    "stops_fn = ' GTFS/stops.txt'\n",
    "trips_fn = ' GTFS/trips.txt'\n",
    "routes_fn = ' GTFS/routes.txt'\n",
    "shapes_fn = ' GTFS/shapes.txt'\n",
    "\n",
    "# Set walking speed in kmph\n",
    "walking_speed = 4.5\n",
    "\n",
    "# Set method for speed calculation\n",
    "# 'local' for averaging over 10 mintues of edges at a time\n",
    "# 'whole' for averaging over an entire route\n",
    "speed_calc_method = 'local'"
   ]
  },
  {
   "cell_type": "code",
   "execution_count": 3,
   "id": "1b07b828",
   "metadata": {
    "scrolled": true
   },
   "source": [
    "# Initialize the network object\n",
    "\n",
    "network = pg.GTFSNetwork(stop_times_fn,stops_fn,trips_fn, routes_fn, shapes_fn, walking_speed, speed_calc_method)"
   ]
  },
  {
   "cell_type": "code",
   "execution_count": 4,
   "id": "17fee8c1",
   "metadata": {},
   "outputs": [
    {
     "name": "stdout",
     "output_type": "stream",
     "text": [
      "CPU times: total: 14.4 s\n",
      "Wall time: 34.4 s\n"
     ]
    }
   ],
   "source": [
    "# Generate the network file data frame\n",
    "\n",
    "network_df = network.make_network_df()"
   ]
  },
  {
   "cell_type": "code",
   "execution_count": 5,
   "id": "a1f86b79",
   "metadata": {
    "scrolled": true
   },
   "outputs": [
    {
     "name": "stdout",
     "output_type": "stream",
     "text": [
      "CPU times: total: 15.6 ms\n",
      "Wall time: 17.1 ms\n"
     ]
    }
   ],
   "source": [
    "# Provide path names for node and network files\n",
    "\n",
    "node_txt_fn = 'node_file.txt'\n",
    "network_txt_fn = 'network_file.txt'\n",
    "\n",
    "# Generate node and network files\n",
    "\n",
    "network.make_node_file(node_txt_fn)\n",
    "network.make_network_file(network_txt_fn)"
   ]
  }
 ],
 "metadata": {
  "kernelspec": {
   "display_name": "Python 3 (ipykernel)",
   "language": "python",
   "name": "python3"
  },
  "language_info": {
   "codemirror_mode": {
    "name": "ipython",
    "version": 3
   },
   "file_extension": ".py",
   "mimetype": "text/x-python",
   "name": "python",
   "nbconvert_exporter": "python",
   "pygments_lexer": "ipython3",
   "version": "3.12.6"
  }
 },
 "nbformat": 4,
 "nbformat_minor": 5
}
